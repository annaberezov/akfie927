{
  "nbformat": 4,
  "nbformat_minor": 0,
  "metadata": {
    "colab": {
      "name": "Berezovski_Project4.ipynb",
      "provenance": [],
      "collapsed_sections": [],
      "authorship_tag": "ABX9TyOJgLEWnCdyuwbxYkPlBP8w",
      "include_colab_link": true
    },
    "kernelspec": {
      "name": "python3",
      "display_name": "Python 3"
    },
    "language_info": {
      "name": "python"
    }
  },
  "cells": [
    {
      "cell_type": "markdown",
      "metadata": {
        "id": "view-in-github",
        "colab_type": "text"
      },
      "source": [
        "<a href=\"https://colab.research.google.com/github/annaberezov/akfie927/blob/main/Berezovski_Project4.ipynb\" target=\"_parent\"><img src=\"https://colab.research.google.com/assets/colab-badge.svg\" alt=\"Open In Colab\"/></a>"
      ]
    },
    {
      "cell_type": "markdown",
      "source": [
        "#Project Four\n",
        "##Anna-Maria Berezovski\n",
        "##CSC 687\n",
        "##February 21, 2022\n"
      ],
      "metadata": {
        "id": "JbkVexFo_xhl"
      }
    },
    {
      "cell_type": "markdown",
      "source": [
        "## Import and Prepare the Data"
      ],
      "metadata": {
        "id": "ZTrCbS1UAb8f"
      }
    },
    {
      "cell_type": "code",
      "source": [
        "# Pandas is mainly used for data analysis. Pandas allows importing data from various file formats \n",
        "# such as comma-separated values, JSON, SQL, Microsoft Excel. \n",
        "# Pandas allows various data manipulation operations such as merging, reshaping, selecting, \n",
        "# as well as data cleaning, and data wrangling features.\n",
        "import pandas as pd\n",
        "\n",
        "# Import matplotlib and seaborn libraries to visualize the data\n",
        "import matplotlib.pyplot as plt \n",
        "import seaborn as sns\n",
        "\n",
        "# We have two files to work with, a test file and a train file. We will import them\n",
        "# both here into two data frames\n",
        "df_test = pd.read_csv('Test.csv')\n",
        "df_train = pd.read_csv('Train.csv')"
      ],
      "metadata": {
        "id": "QUiIqvC-_ykE"
      },
      "execution_count": 1,
      "outputs": []
    },
    {
      "cell_type": "markdown",
      "source": [
        "To look at the correlation between attributes and the target variable, we will use the train dataset since it is larger"
      ],
      "metadata": {
        "id": "3thkLQWsBNzU"
      }
    },
    {
      "cell_type": "code",
      "source": [
        "df_train.info()"
      ],
      "metadata": {
        "colab": {
          "base_uri": "https://localhost:8080/"
        },
        "id": "b2fxa1LgBT_P",
        "outputId": "617d9ab8-74e1-4609-c45a-52dd309a1b45"
      },
      "execution_count": 2,
      "outputs": [
        {
          "output_type": "stream",
          "name": "stdout",
          "text": [
            "<class 'pandas.core.frame.DataFrame'>\n",
            "RangeIndex: 8068 entries, 0 to 8067\n",
            "Data columns (total 11 columns):\n",
            " #   Column           Non-Null Count  Dtype  \n",
            "---  ------           --------------  -----  \n",
            " 0   ID               8068 non-null   int64  \n",
            " 1   Gender           8068 non-null   object \n",
            " 2   Ever_Married     7928 non-null   object \n",
            " 3   Age              8068 non-null   int64  \n",
            " 4   Graduated        7990 non-null   object \n",
            " 5   Profession       7944 non-null   object \n",
            " 6   Work_Experience  7239 non-null   float64\n",
            " 7   Spending_Score   8068 non-null   object \n",
            " 8   Family_Size      7733 non-null   float64\n",
            " 9   Var_1            7992 non-null   object \n",
            " 10  Segmentation     8068 non-null   object \n",
            "dtypes: float64(2), int64(2), object(7)\n",
            "memory usage: 693.5+ KB\n"
          ]
        }
      ]
    },
    {
      "cell_type": "markdown",
      "source": [
        "We will now remove any duplicates if there are any"
      ],
      "metadata": {
        "id": "dVqXpE37FLP2"
      }
    },
    {
      "cell_type": "code",
      "source": [
        "df_train = df_train.drop_duplicates()\n",
        "\n",
        "df_train.info()"
      ],
      "metadata": {
        "colab": {
          "base_uri": "https://localhost:8080/"
        },
        "id": "UzJ2bKd3FOHQ",
        "outputId": "f9a94383-9f36-4131-f9b5-010687816f2f"
      },
      "execution_count": 3,
      "outputs": [
        {
          "output_type": "stream",
          "name": "stdout",
          "text": [
            "<class 'pandas.core.frame.DataFrame'>\n",
            "Int64Index: 8068 entries, 0 to 8067\n",
            "Data columns (total 11 columns):\n",
            " #   Column           Non-Null Count  Dtype  \n",
            "---  ------           --------------  -----  \n",
            " 0   ID               8068 non-null   int64  \n",
            " 1   Gender           8068 non-null   object \n",
            " 2   Ever_Married     7928 non-null   object \n",
            " 3   Age              8068 non-null   int64  \n",
            " 4   Graduated        7990 non-null   object \n",
            " 5   Profession       7944 non-null   object \n",
            " 6   Work_Experience  7239 non-null   float64\n",
            " 7   Spending_Score   8068 non-null   object \n",
            " 8   Family_Size      7733 non-null   float64\n",
            " 9   Var_1            7992 non-null   object \n",
            " 10  Segmentation     8068 non-null   object \n",
            "dtypes: float64(2), int64(2), object(7)\n",
            "memory usage: 756.4+ KB\n"
          ]
        }
      ]
    },
    {
      "cell_type": "markdown",
      "source": [
        "We will now only include relevant or useful columns"
      ],
      "metadata": {
        "id": "p9xPLdm2_Nww"
      }
    },
    {
      "cell_type": "code",
      "source": [
        "df_train = df_train[[\"Age\", \"Gender\", \"Ever_Married\", \"Graduated\", \"Spending_Score\", \"Work_Experience\", \"Family_Size\", \"Segmentation\"]]\n"
      ],
      "metadata": {
        "id": "8OivQski-1yz"
      },
      "execution_count": 4,
      "outputs": []
    },
    {
      "cell_type": "code",
      "source": [
        "df_train"
      ],
      "metadata": {
        "colab": {
          "base_uri": "https://localhost:8080/",
          "height": 424
        },
        "id": "PJf_CPQV_IzK",
        "outputId": "3c68d0f5-3075-4862-eb2c-2132c38cfed3"
      },
      "execution_count": 5,
      "outputs": [
        {
          "output_type": "execute_result",
          "data": {
            "text/html": [
              "\n",
              "  <div id=\"df-6125c0d4-98d2-4832-82d9-b53eaa4eb4ba\">\n",
              "    <div class=\"colab-df-container\">\n",
              "      <div>\n",
              "<style scoped>\n",
              "    .dataframe tbody tr th:only-of-type {\n",
              "        vertical-align: middle;\n",
              "    }\n",
              "\n",
              "    .dataframe tbody tr th {\n",
              "        vertical-align: top;\n",
              "    }\n",
              "\n",
              "    .dataframe thead th {\n",
              "        text-align: right;\n",
              "    }\n",
              "</style>\n",
              "<table border=\"1\" class=\"dataframe\">\n",
              "  <thead>\n",
              "    <tr style=\"text-align: right;\">\n",
              "      <th></th>\n",
              "      <th>Age</th>\n",
              "      <th>Gender</th>\n",
              "      <th>Ever_Married</th>\n",
              "      <th>Graduated</th>\n",
              "      <th>Spending_Score</th>\n",
              "      <th>Work_Experience</th>\n",
              "      <th>Family_Size</th>\n",
              "      <th>Segmentation</th>\n",
              "    </tr>\n",
              "  </thead>\n",
              "  <tbody>\n",
              "    <tr>\n",
              "      <th>0</th>\n",
              "      <td>22</td>\n",
              "      <td>Male</td>\n",
              "      <td>No</td>\n",
              "      <td>No</td>\n",
              "      <td>Low</td>\n",
              "      <td>1.0</td>\n",
              "      <td>4.0</td>\n",
              "      <td>D</td>\n",
              "    </tr>\n",
              "    <tr>\n",
              "      <th>1</th>\n",
              "      <td>38</td>\n",
              "      <td>Female</td>\n",
              "      <td>Yes</td>\n",
              "      <td>Yes</td>\n",
              "      <td>Average</td>\n",
              "      <td>NaN</td>\n",
              "      <td>3.0</td>\n",
              "      <td>A</td>\n",
              "    </tr>\n",
              "    <tr>\n",
              "      <th>2</th>\n",
              "      <td>67</td>\n",
              "      <td>Female</td>\n",
              "      <td>Yes</td>\n",
              "      <td>Yes</td>\n",
              "      <td>Low</td>\n",
              "      <td>1.0</td>\n",
              "      <td>1.0</td>\n",
              "      <td>B</td>\n",
              "    </tr>\n",
              "    <tr>\n",
              "      <th>3</th>\n",
              "      <td>67</td>\n",
              "      <td>Male</td>\n",
              "      <td>Yes</td>\n",
              "      <td>Yes</td>\n",
              "      <td>High</td>\n",
              "      <td>0.0</td>\n",
              "      <td>2.0</td>\n",
              "      <td>B</td>\n",
              "    </tr>\n",
              "    <tr>\n",
              "      <th>4</th>\n",
              "      <td>40</td>\n",
              "      <td>Female</td>\n",
              "      <td>Yes</td>\n",
              "      <td>Yes</td>\n",
              "      <td>High</td>\n",
              "      <td>NaN</td>\n",
              "      <td>6.0</td>\n",
              "      <td>A</td>\n",
              "    </tr>\n",
              "    <tr>\n",
              "      <th>...</th>\n",
              "      <td>...</td>\n",
              "      <td>...</td>\n",
              "      <td>...</td>\n",
              "      <td>...</td>\n",
              "      <td>...</td>\n",
              "      <td>...</td>\n",
              "      <td>...</td>\n",
              "      <td>...</td>\n",
              "    </tr>\n",
              "    <tr>\n",
              "      <th>8063</th>\n",
              "      <td>22</td>\n",
              "      <td>Male</td>\n",
              "      <td>No</td>\n",
              "      <td>No</td>\n",
              "      <td>Low</td>\n",
              "      <td>0.0</td>\n",
              "      <td>7.0</td>\n",
              "      <td>D</td>\n",
              "    </tr>\n",
              "    <tr>\n",
              "      <th>8064</th>\n",
              "      <td>35</td>\n",
              "      <td>Male</td>\n",
              "      <td>No</td>\n",
              "      <td>No</td>\n",
              "      <td>Low</td>\n",
              "      <td>3.0</td>\n",
              "      <td>4.0</td>\n",
              "      <td>D</td>\n",
              "    </tr>\n",
              "    <tr>\n",
              "      <th>8065</th>\n",
              "      <td>33</td>\n",
              "      <td>Female</td>\n",
              "      <td>No</td>\n",
              "      <td>Yes</td>\n",
              "      <td>Low</td>\n",
              "      <td>1.0</td>\n",
              "      <td>1.0</td>\n",
              "      <td>D</td>\n",
              "    </tr>\n",
              "    <tr>\n",
              "      <th>8066</th>\n",
              "      <td>27</td>\n",
              "      <td>Female</td>\n",
              "      <td>No</td>\n",
              "      <td>Yes</td>\n",
              "      <td>Low</td>\n",
              "      <td>1.0</td>\n",
              "      <td>4.0</td>\n",
              "      <td>B</td>\n",
              "    </tr>\n",
              "    <tr>\n",
              "      <th>8067</th>\n",
              "      <td>37</td>\n",
              "      <td>Male</td>\n",
              "      <td>Yes</td>\n",
              "      <td>Yes</td>\n",
              "      <td>Average</td>\n",
              "      <td>0.0</td>\n",
              "      <td>3.0</td>\n",
              "      <td>B</td>\n",
              "    </tr>\n",
              "  </tbody>\n",
              "</table>\n",
              "<p>8068 rows × 8 columns</p>\n",
              "</div>\n",
              "      <button class=\"colab-df-convert\" onclick=\"convertToInteractive('df-6125c0d4-98d2-4832-82d9-b53eaa4eb4ba')\"\n",
              "              title=\"Convert this dataframe to an interactive table.\"\n",
              "              style=\"display:none;\">\n",
              "        \n",
              "  <svg xmlns=\"http://www.w3.org/2000/svg\" height=\"24px\"viewBox=\"0 0 24 24\"\n",
              "       width=\"24px\">\n",
              "    <path d=\"M0 0h24v24H0V0z\" fill=\"none\"/>\n",
              "    <path d=\"M18.56 5.44l.94 2.06.94-2.06 2.06-.94-2.06-.94-.94-2.06-.94 2.06-2.06.94zm-11 1L8.5 8.5l.94-2.06 2.06-.94-2.06-.94L8.5 2.5l-.94 2.06-2.06.94zm10 10l.94 2.06.94-2.06 2.06-.94-2.06-.94-.94-2.06-.94 2.06-2.06.94z\"/><path d=\"M17.41 7.96l-1.37-1.37c-.4-.4-.92-.59-1.43-.59-.52 0-1.04.2-1.43.59L10.3 9.45l-7.72 7.72c-.78.78-.78 2.05 0 2.83L4 21.41c.39.39.9.59 1.41.59.51 0 1.02-.2 1.41-.59l7.78-7.78 2.81-2.81c.8-.78.8-2.07 0-2.86zM5.41 20L4 18.59l7.72-7.72 1.47 1.35L5.41 20z\"/>\n",
              "  </svg>\n",
              "      </button>\n",
              "      \n",
              "  <style>\n",
              "    .colab-df-container {\n",
              "      display:flex;\n",
              "      flex-wrap:wrap;\n",
              "      gap: 12px;\n",
              "    }\n",
              "\n",
              "    .colab-df-convert {\n",
              "      background-color: #E8F0FE;\n",
              "      border: none;\n",
              "      border-radius: 50%;\n",
              "      cursor: pointer;\n",
              "      display: none;\n",
              "      fill: #1967D2;\n",
              "      height: 32px;\n",
              "      padding: 0 0 0 0;\n",
              "      width: 32px;\n",
              "    }\n",
              "\n",
              "    .colab-df-convert:hover {\n",
              "      background-color: #E2EBFA;\n",
              "      box-shadow: 0px 1px 2px rgba(60, 64, 67, 0.3), 0px 1px 3px 1px rgba(60, 64, 67, 0.15);\n",
              "      fill: #174EA6;\n",
              "    }\n",
              "\n",
              "    [theme=dark] .colab-df-convert {\n",
              "      background-color: #3B4455;\n",
              "      fill: #D2E3FC;\n",
              "    }\n",
              "\n",
              "    [theme=dark] .colab-df-convert:hover {\n",
              "      background-color: #434B5C;\n",
              "      box-shadow: 0px 1px 3px 1px rgba(0, 0, 0, 0.15);\n",
              "      filter: drop-shadow(0px 1px 2px rgba(0, 0, 0, 0.3));\n",
              "      fill: #FFFFFF;\n",
              "    }\n",
              "  </style>\n",
              "\n",
              "      <script>\n",
              "        const buttonEl =\n",
              "          document.querySelector('#df-6125c0d4-98d2-4832-82d9-b53eaa4eb4ba button.colab-df-convert');\n",
              "        buttonEl.style.display =\n",
              "          google.colab.kernel.accessAllowed ? 'block' : 'none';\n",
              "\n",
              "        async function convertToInteractive(key) {\n",
              "          const element = document.querySelector('#df-6125c0d4-98d2-4832-82d9-b53eaa4eb4ba');\n",
              "          const dataTable =\n",
              "            await google.colab.kernel.invokeFunction('convertToInteractive',\n",
              "                                                     [key], {});\n",
              "          if (!dataTable) return;\n",
              "\n",
              "          const docLinkHtml = 'Like what you see? Visit the ' +\n",
              "            '<a target=\"_blank\" href=https://colab.research.google.com/notebooks/data_table.ipynb>data table notebook</a>'\n",
              "            + ' to learn more about interactive tables.';\n",
              "          element.innerHTML = '';\n",
              "          dataTable['output_type'] = 'display_data';\n",
              "          await google.colab.output.renderOutput(dataTable, element);\n",
              "          const docLink = document.createElement('div');\n",
              "          docLink.innerHTML = docLinkHtml;\n",
              "          element.appendChild(docLink);\n",
              "        }\n",
              "      </script>\n",
              "    </div>\n",
              "  </div>\n",
              "  "
            ],
            "text/plain": [
              "      Age  Gender Ever_Married  ... Work_Experience Family_Size  Segmentation\n",
              "0      22    Male           No  ...             1.0         4.0             D\n",
              "1      38  Female          Yes  ...             NaN         3.0             A\n",
              "2      67  Female          Yes  ...             1.0         1.0             B\n",
              "3      67    Male          Yes  ...             0.0         2.0             B\n",
              "4      40  Female          Yes  ...             NaN         6.0             A\n",
              "...   ...     ...          ...  ...             ...         ...           ...\n",
              "8063   22    Male           No  ...             0.0         7.0             D\n",
              "8064   35    Male           No  ...             3.0         4.0             D\n",
              "8065   33  Female           No  ...             1.0         1.0             D\n",
              "8066   27  Female           No  ...             1.0         4.0             B\n",
              "8067   37    Male          Yes  ...             0.0         3.0             B\n",
              "\n",
              "[8068 rows x 8 columns]"
            ]
          },
          "metadata": {},
          "execution_count": 5
        }
      ]
    },
    {
      "cell_type": "markdown",
      "source": [
        "## Correlation Values"
      ],
      "metadata": {
        "id": "MiyXLbK6Ga6V"
      }
    },
    {
      "cell_type": "code",
      "source": [
        "corr_matrix = df_train.corr()\n",
        "\n",
        "corr_matrix"
      ],
      "metadata": {
        "colab": {
          "base_uri": "https://localhost:8080/",
          "height": 143
        },
        "id": "Yu7y9Aj26i0Z",
        "outputId": "d7b39fbe-db51-4bb5-fbdb-25e7f1beb5e3"
      },
      "execution_count": 6,
      "outputs": [
        {
          "output_type": "execute_result",
          "data": {
            "text/html": [
              "\n",
              "  <div id=\"df-e9d52ba2-c72a-49d6-b749-5fe667563fae\">\n",
              "    <div class=\"colab-df-container\">\n",
              "      <div>\n",
              "<style scoped>\n",
              "    .dataframe tbody tr th:only-of-type {\n",
              "        vertical-align: middle;\n",
              "    }\n",
              "\n",
              "    .dataframe tbody tr th {\n",
              "        vertical-align: top;\n",
              "    }\n",
              "\n",
              "    .dataframe thead th {\n",
              "        text-align: right;\n",
              "    }\n",
              "</style>\n",
              "<table border=\"1\" class=\"dataframe\">\n",
              "  <thead>\n",
              "    <tr style=\"text-align: right;\">\n",
              "      <th></th>\n",
              "      <th>Age</th>\n",
              "      <th>Work_Experience</th>\n",
              "      <th>Family_Size</th>\n",
              "    </tr>\n",
              "  </thead>\n",
              "  <tbody>\n",
              "    <tr>\n",
              "      <th>Age</th>\n",
              "      <td>1.000000</td>\n",
              "      <td>-0.190789</td>\n",
              "      <td>-0.280517</td>\n",
              "    </tr>\n",
              "    <tr>\n",
              "      <th>Work_Experience</th>\n",
              "      <td>-0.190789</td>\n",
              "      <td>1.000000</td>\n",
              "      <td>-0.063234</td>\n",
              "    </tr>\n",
              "    <tr>\n",
              "      <th>Family_Size</th>\n",
              "      <td>-0.280517</td>\n",
              "      <td>-0.063234</td>\n",
              "      <td>1.000000</td>\n",
              "    </tr>\n",
              "  </tbody>\n",
              "</table>\n",
              "</div>\n",
              "      <button class=\"colab-df-convert\" onclick=\"convertToInteractive('df-e9d52ba2-c72a-49d6-b749-5fe667563fae')\"\n",
              "              title=\"Convert this dataframe to an interactive table.\"\n",
              "              style=\"display:none;\">\n",
              "        \n",
              "  <svg xmlns=\"http://www.w3.org/2000/svg\" height=\"24px\"viewBox=\"0 0 24 24\"\n",
              "       width=\"24px\">\n",
              "    <path d=\"M0 0h24v24H0V0z\" fill=\"none\"/>\n",
              "    <path d=\"M18.56 5.44l.94 2.06.94-2.06 2.06-.94-2.06-.94-.94-2.06-.94 2.06-2.06.94zm-11 1L8.5 8.5l.94-2.06 2.06-.94-2.06-.94L8.5 2.5l-.94 2.06-2.06.94zm10 10l.94 2.06.94-2.06 2.06-.94-2.06-.94-.94-2.06-.94 2.06-2.06.94z\"/><path d=\"M17.41 7.96l-1.37-1.37c-.4-.4-.92-.59-1.43-.59-.52 0-1.04.2-1.43.59L10.3 9.45l-7.72 7.72c-.78.78-.78 2.05 0 2.83L4 21.41c.39.39.9.59 1.41.59.51 0 1.02-.2 1.41-.59l7.78-7.78 2.81-2.81c.8-.78.8-2.07 0-2.86zM5.41 20L4 18.59l7.72-7.72 1.47 1.35L5.41 20z\"/>\n",
              "  </svg>\n",
              "      </button>\n",
              "      \n",
              "  <style>\n",
              "    .colab-df-container {\n",
              "      display:flex;\n",
              "      flex-wrap:wrap;\n",
              "      gap: 12px;\n",
              "    }\n",
              "\n",
              "    .colab-df-convert {\n",
              "      background-color: #E8F0FE;\n",
              "      border: none;\n",
              "      border-radius: 50%;\n",
              "      cursor: pointer;\n",
              "      display: none;\n",
              "      fill: #1967D2;\n",
              "      height: 32px;\n",
              "      padding: 0 0 0 0;\n",
              "      width: 32px;\n",
              "    }\n",
              "\n",
              "    .colab-df-convert:hover {\n",
              "      background-color: #E2EBFA;\n",
              "      box-shadow: 0px 1px 2px rgba(60, 64, 67, 0.3), 0px 1px 3px 1px rgba(60, 64, 67, 0.15);\n",
              "      fill: #174EA6;\n",
              "    }\n",
              "\n",
              "    [theme=dark] .colab-df-convert {\n",
              "      background-color: #3B4455;\n",
              "      fill: #D2E3FC;\n",
              "    }\n",
              "\n",
              "    [theme=dark] .colab-df-convert:hover {\n",
              "      background-color: #434B5C;\n",
              "      box-shadow: 0px 1px 3px 1px rgba(0, 0, 0, 0.15);\n",
              "      filter: drop-shadow(0px 1px 2px rgba(0, 0, 0, 0.3));\n",
              "      fill: #FFFFFF;\n",
              "    }\n",
              "  </style>\n",
              "\n",
              "      <script>\n",
              "        const buttonEl =\n",
              "          document.querySelector('#df-e9d52ba2-c72a-49d6-b749-5fe667563fae button.colab-df-convert');\n",
              "        buttonEl.style.display =\n",
              "          google.colab.kernel.accessAllowed ? 'block' : 'none';\n",
              "\n",
              "        async function convertToInteractive(key) {\n",
              "          const element = document.querySelector('#df-e9d52ba2-c72a-49d6-b749-5fe667563fae');\n",
              "          const dataTable =\n",
              "            await google.colab.kernel.invokeFunction('convertToInteractive',\n",
              "                                                     [key], {});\n",
              "          if (!dataTable) return;\n",
              "\n",
              "          const docLinkHtml = 'Like what you see? Visit the ' +\n",
              "            '<a target=\"_blank\" href=https://colab.research.google.com/notebooks/data_table.ipynb>data table notebook</a>'\n",
              "            + ' to learn more about interactive tables.';\n",
              "          element.innerHTML = '';\n",
              "          dataTable['output_type'] = 'display_data';\n",
              "          await google.colab.output.renderOutput(dataTable, element);\n",
              "          const docLink = document.createElement('div');\n",
              "          docLink.innerHTML = docLinkHtml;\n",
              "          element.appendChild(docLink);\n",
              "        }\n",
              "      </script>\n",
              "    </div>\n",
              "  </div>\n",
              "  "
            ],
            "text/plain": [
              "                      Age  Work_Experience  Family_Size\n",
              "Age              1.000000        -0.190789    -0.280517\n",
              "Work_Experience -0.190789         1.000000    -0.063234\n",
              "Family_Size     -0.280517        -0.063234     1.000000"
            ]
          },
          "metadata": {},
          "execution_count": 6
        }
      ]
    },
    {
      "cell_type": "code",
      "source": [
        "sns.heatmap(corr_matrix)"
      ],
      "metadata": {
        "colab": {
          "base_uri": "https://localhost:8080/",
          "height": 287
        },
        "id": "Dx5blwfh67sG",
        "outputId": "7c55c579-74ca-4a1f-a94f-8f3d8740a553"
      },
      "execution_count": 7,
      "outputs": [
        {
          "output_type": "execute_result",
          "data": {
            "text/plain": [
              "<matplotlib.axes._subplots.AxesSubplot at 0x7f6031ee3d50>"
            ]
          },
          "metadata": {},
          "execution_count": 7
        },
        {
          "output_type": "display_data",
          "data": {
            "image/png": "[encoded data removed]",
            "text/plain": [
              "<Figure size 432x288 with 2 Axes>"
            ]
          },
          "metadata": {
            "needs_background": "light"
          }
        }
      ]
    },
    {
      "cell_type": "markdown",
      "source": [
        "Since we can only see the correlation using the matrix with numeric variables, we will graph the rest of the relationships"
      ],
      "metadata": {
        "id": "8Oh5UqcS9dc5"
      }
    },
    {
      "cell_type": "code",
      "source": [
        "import matplotlib.pyplot as plt\n",
        "\n",
        "figure, axes = plt.subplots(1, 4)\n",
        "\n",
        "ct2 = pd.crosstab(df_train['Segmentation'], df_train['Ever_Married'])\n",
        "ct2.plot.bar(ax = axes[0],figsize=(8,8))\n",
        "\n",
        "ct3 = pd.crosstab(df_train['Segmentation'], df_train['Graduated'])\n",
        "ct3.plot.bar(ax = axes[1],figsize=(8,8))\n",
        "\n",
        "ct4 = pd.crosstab(df_train['Segmentation'], df_train['Family_Size'])\n",
        "ct4.plot.bar(ax = axes[2],figsize=(8,8))\n",
        "\n",
        "ct5 = pd.crosstab(df_train['Segmentation'], df_train['Gender'])\n",
        "ct5.plot.bar(ax = axes[3],figsize=(8,8))"
      ],
      "metadata": {
        "colab": {
          "base_uri": "https://localhost:8080/",
          "height": 512
        },
        "id": "vECD_7lQBjSH",
        "outputId": "7eadf4b2-89b7-427f-8f90-768573bfb4fb"
      },
      "execution_count": 8,
      "outputs": [
        {
          "output_type": "execute_result",
          "data": {
            "text/plain": [
              "<matplotlib.axes._subplots.AxesSubplot at 0x7f602f8f7410>"
            ]
          },
          "metadata": {},
          "execution_count": 8
        },
        {
          "output_type": "display_data",
          "data": {
            "image/png": "[encoded data removed]",
            "text/plain": [
              "<Figure size 576x576 with 4 Axes>"
            ]
          },
          "metadata": {
            "needs_background": "light"
          }
        }
      ]
    },
    {
      "cell_type": "markdown",
      "source": [
        "## Pipelines"
      ],
      "metadata": {
        "id": "-qdSsWqdubFT"
      }
    },
    {
      "cell_type": "markdown",
      "source": [
        "### Imputation"
      ],
      "metadata": {
        "id": "StLVD2Uozo5-"
      }
    },
    {
      "cell_type": "markdown",
      "source": [
        "We will now use imputation to handle missing values in the data"
      ],
      "metadata": {
        "id": "lKp4d7EWulyI"
      }
    },
    {
      "cell_type": "code",
      "source": [
        "df_train.isnull().sum()"
      ],
      "metadata": {
        "colab": {
          "base_uri": "https://localhost:8080/"
        },
        "id": "IIAcviIXueBk",
        "outputId": "3c9f2933-1614-4406-ff29-44f88e9462a5"
      },
      "execution_count": 9,
      "outputs": [
        {
          "output_type": "execute_result",
          "data": {
            "text/plain": [
              "Age                  0\n",
              "Gender               0\n",
              "Ever_Married       140\n",
              "Graduated           78\n",
              "Spending_Score       0\n",
              "Work_Experience    829\n",
              "Family_Size        335\n",
              "Segmentation         0\n",
              "dtype: int64"
            ]
          },
          "metadata": {},
          "execution_count": 9
        }
      ]
    },
    {
      "cell_type": "markdown",
      "source": [
        "We can see that the data set has null values for the variables Ever_Married, Graduated, Work_Experience, and Family_Size\n",
        "In order to make the correct pipelines, we need to see the types for the data columns"
      ],
      "metadata": {
        "id": "meea2lGyupib"
      }
    },
    {
      "cell_type": "code",
      "source": [
        "df_train.dtypes"
      ],
      "metadata": {
        "colab": {
          "base_uri": "https://localhost:8080/"
        },
        "id": "J0vjyXEcu9Bc",
        "outputId": "54e7c6f5-8af3-45ea-9011-d18542027f48"
      },
      "execution_count": 10,
      "outputs": [
        {
          "output_type": "execute_result",
          "data": {
            "text/plain": [
              "Age                  int64\n",
              "Gender              object\n",
              "Ever_Married        object\n",
              "Graduated           object\n",
              "Spending_Score      object\n",
              "Work_Experience    float64\n",
              "Family_Size        float64\n",
              "Segmentation        object\n",
              "dtype: object"
            ]
          },
          "metadata": {},
          "execution_count": 10
        }
      ]
    },
    {
      "cell_type": "code",
      "source": [
        "from sklearn.compose import ColumnTransformer\n",
        "from sklearn.pipeline import Pipeline, make_pipeline\n",
        "from sklearn.impute import SimpleImputer, KNNImputer\n",
        "from sklearn.preprocessing import OneHotEncoder, StandardScaler, OrdinalEncoder, MinMaxScaler\n",
        "\n",
        "########## First create a pipeline for the categoric attributes\n",
        "\n",
        "cat_cols = ['Gender', 'Ever_Married', 'Graduated', 'Spending_Score', 'Segmentation']\n",
        "\n",
        "cat_transformer = Pipeline(steps=[\n",
        "    # strategies are mean, median, most_frequent, etc.\n",
        "    ('imputer', SimpleImputer(strategy='most_frequent')),\n",
        "\n",
        "    # In ordinal encoding, each unique category value is assigned an integer value.\n",
        "    ('ordinal', OrdinalEncoder())\n",
        "])\n",
        "\n",
        "########## Second create a pipeline for the numeric attributes\n",
        "\n",
        "num_cols = ['Age', 'Work_Experience', 'Family_Size']\n",
        "\n",
        "num_transformer = Pipeline(steps=[\n",
        "    # Number of neighboring samples to use for K-nearest neighor imputation\n",
        "    ('imputer', KNNImputer(n_neighbors=5)),\n",
        "\n",
        "    # StandardScaler makes mean = 0 and scales the data to unit variance \n",
        "    ('scaler', StandardScaler())\n",
        "])\n",
        "\n",
        "########## Finally, apply column transformations\n",
        "\n",
        "preprocessor = ColumnTransformer(\n",
        "    transformers=[\n",
        "        ('num', num_transformer, num_cols),\n",
        "        ('cat', cat_transformer, cat_cols)\n",
        "    ])\n"
      ],
      "metadata": {
        "id": "BAu9GRMwvIdU"
      },
      "execution_count": 11,
      "outputs": []
    },
    {
      "cell_type": "markdown",
      "source": [
        "### Classification Pipelines"
      ],
      "metadata": {
        "id": "MPFqeNydzeOZ"
      }
    },
    {
      "cell_type": "code",
      "source": [
        "from sklearn.linear_model import LogisticRegression\n",
        "from sklearn.tree import DecisionTreeClassifier\n",
        "from sklearn.ensemble import RandomForestClassifier\n",
        "from sklearn.model_selection import train_test_split, cross_val_score, GridSearchCV\n",
        "from sklearn.svm import SVC\n",
        "\n",
        "num_folds = 2\n",
        "\n",
        "#X = df_train.drop('Segmentation',1)\n",
        "X = df_train\n",
        "y = df_train['Segmentation']\n",
        "\n",
        "########## A logistic regression model\n",
        "lr_clf = Pipeline(steps=[('preprocessor', preprocessor),\n",
        "                      ('classifier', LogisticRegression())])\n",
        "\n",
        "lr_score = cross_val_score(lr_clf, X, y, cv=num_folds, scoring=\"accuracy\").mean()\n",
        "\n",
        "########## A decicion tree with gini\n",
        "gini_dt_clf = Pipeline(steps=[('preprocessor', preprocessor),\n",
        "                      ('classifier', DecisionTreeClassifier(criterion='gini'))])\n",
        "\n",
        "gini_dt_score = cross_val_score(gini_dt_clf, X, y, cv=num_folds, scoring=\"accuracy\").mean()\n",
        "\n",
        "\n",
        "########## A decicion tree with entropy\n",
        "entropy_dt_clf = Pipeline(steps=[('preprocessor', preprocessor),\n",
        "                      ('classifier', DecisionTreeClassifier(criterion='entropy'))])\n",
        "\n",
        "entropy_dt_score = cross_val_score(entropy_dt_clf, X, y, cv=num_folds, scoring=\"accuracy\").mean()\n",
        "\n",
        "\n",
        "########## A random forest\n",
        "rf_clf = Pipeline(steps=[('preprocessor', preprocessor),\n",
        "                      ('classifier', RandomForestClassifier())])\n",
        "\n",
        "rf_clf_score = cross_val_score(rf_clf, X, y, cv=num_folds, scoring=\"accuracy\").mean()\n",
        "\n",
        "\n",
        "########## An RBF kernel classifier\n",
        "rbf_svc_clf = Pipeline(steps=[('preprocessor', preprocessor),\n",
        "                      ('classifier', SVC(kernel='rbf'))])\n",
        "\n",
        "rbf_svc_clf_score = cross_val_score(rbf_svc_clf, X, y, cv=num_folds, scoring=\"accuracy\").mean()\n",
        "\n",
        "\n",
        "########## A poly kernel classifier\n",
        "poly_svc_clf = Pipeline(steps=[('preprocessor', preprocessor),\n",
        "                      ('classifier', SVC(kernel='poly'))])\n",
        "\n",
        "poly_svc_clf_score = cross_val_score(poly_svc_clf, X, y, cv=num_folds, scoring=\"accuracy\").mean()\n"
      ],
      "metadata": {
        "id": "ObP7mtWHzsCN"
      },
      "execution_count": 12,
      "outputs": []
    },
    {
      "cell_type": "code",
      "source": [
        "import numpy as np\n",
        "# Summarize the findings for all models\n",
        "\n",
        "labels = ['LR', 'DT (Gini)', 'DT (Entropy)', 'RF', 'SVC (RBF)', 'SVC (Poly)']\n",
        "training_scores = [lr_score, gini_dt_score, entropy_dt_score, rf_clf_score, rbf_svc_clf_score, poly_svc_clf_score]\n",
        "\n",
        "x = np.arange(len(labels))  # the label locations\n",
        "width = 0.35  # the width of the bars\n",
        "\n",
        "fig, ax = plt.subplots()\n",
        "rects1 = ax.bar(x - width/2, training_scores, width, label='CV=10', color='orange')\n",
        "\n",
        "# Add some text for labels, title and custom x-axis tick labels, etc.\n",
        "ax.set_ylabel('Accuracy')\n",
        "ax.set_xticks(x)\n",
        "ax.set_ylim(0,1)\n",
        "ax.set_xticklabels(labels)\n",
        "ax.legend(bbox_to_anchor = (1.3, 1.0), loc='upper right')\n",
        "\n",
        "plt.title('Model Comparisons')\n",
        "plt.show()"
      ],
      "metadata": {
        "colab": {
          "base_uri": "https://localhost:8080/",
          "height": 281
        },
        "id": "b3VpdxL8GXNx",
        "outputId": "3a9d0a67-0332-43ce-d055-53038936ae3c"
      },
      "execution_count": 13,
      "outputs": [
        {
          "output_type": "display_data",
          "data": {
            "image/png": "[encoded data removed]",
            "text/plain": [
              "<Figure size 432x288 with 1 Axes>"
            ]
          },
          "metadata": {
            "needs_background": "light"
          }
        }
      ]
    },
    {
      "cell_type": "markdown",
      "source": [
        "## Knowledge Tree"
      ],
      "metadata": {
        "id": "Mxj672y6igh7"
      }
    },
    {
      "cell_type": "code",
      "source": [
        "# Convert the decision tree model to text and graph\n",
        "\n",
        "from matplotlib import pyplot\n",
        "from sklearn.tree import export_text, export_graphviz\n",
        "import graphviz\n",
        "\n",
        "# we need to refit the DT model that is part of a composite pipe before exporting it as text\n",
        "entropy_dt_clf['classifier'].fit(preprocessor.fit_transform(X), y)\n",
        "\n",
        "\n",
        "# display the induced decision tree as a series of logical rules\n",
        "text_representation = export_text(entropy_dt_clf['classifier'], feature_names=['Gender', 'Ever_Married', 'Graduated', 'Spending_Score', 'Age', 'Work_Experience', 'Family_Size', 'Segmentation'], max_depth=2)\n",
        "print(text_representation)\n",
        "\n",
        "\n",
        "# draw the induced decision tree\n",
        "dot_data = export_graphviz(entropy_dt_clf['classifier'], max_depth=2,feature_names=['Gender', 'Ever_Married', 'Graduated', 'Spending_Score', 'Age', 'Work_Experience', 'Family_Size', 'Segmentation'],filled=True)\n",
        "\n",
        "graph = graphviz.Source(dot_data, format=\"png\") \n",
        "graph"
      ],
      "metadata": {
        "colab": {
          "base_uri": "https://localhost:8080/",
          "height": 571
        },
        "id": "YS7VN5n9imEX",
        "outputId": "aeb8420d-c788-4a70-a83d-7f2f453c916c"
      },
      "execution_count": 18,
      "outputs": [
        {
          "output_type": "stream",
          "name": "stdout",
          "text": [
            "|--- Segmentation <= 1.50\n",
            "|   |--- Segmentation <= 0.50\n",
            "|   |   |--- class: A\n",
            "|   |--- Segmentation >  0.50\n",
            "|   |   |--- class: B\n",
            "|--- Segmentation >  1.50\n",
            "|   |--- Segmentation <= 2.50\n",
            "|   |   |--- class: C\n",
            "|   |--- Segmentation >  2.50\n",
            "|   |   |--- class: D\n",
            "\n"
          ]
        },
        {
          "output_type": "execute_result",
          "data": {
            "text/plain": [
              "<graphviz.files.Source at 0x7f602dbd5310>"
            ],
            "image/svg+xml": "<?xml version=\"1.0\" encoding=\"UTF-8\" standalone=\"no\"?>\n<!DOCTYPE svg PUBLIC \"-//W3C//DTD SVG 1.1//EN\"\n \"http://www.w3.org/Graphics/SVG/1.1/DTD/svg11.dtd\">\n<!-- Generated by graphviz version 2.40.1 (20161225.0304)\n -->\n<!-- Title: Tree Pages: 1 -->\n<svg width=\"694pt\" height=\"269pt\"\n viewBox=\"0.00 0.00 694.00 269.00\" xmlns=\"http://www.w3.org/2000/svg\" xmlns:xlink=\"http://www.w3.org/1999/xlink\">\n<g id=\"graph0\" class=\"graph\" transform=\"scale(1 1) rotate(0) translate(4 265)\">\n<title>Tree</title>\n<polygon fill=\"#ffffff\" stroke=\"transparent\" points=\"-4,4 -4,-265 690,-265 690,4 -4,4\"/>\n<!-- 0 -->\n<g id=\"node1\" class=\"node\">\n<title>0</title>\n<polygon fill=\"#fdf5fe\" stroke=\"#000000\" points=\"457.5,-261 227.5,-261 227.5,-193 457.5,-193 457.5,-261\"/>\n<text text-anchor=\"middle\" x=\"342.5\" y=\"-245.8\" font-family=\"Helvetica,sans-Serif\" font-size=\"14.00\" fill=\"#000000\">Segmentation &lt;= 1.5</text>\n<text text-anchor=\"middle\" x=\"342.5\" y=\"-230.8\" font-family=\"Helvetica,sans-Serif\" font-size=\"14.00\" fill=\"#000000\">entropy = 1.996</text>\n<text text-anchor=\"middle\" x=\"342.5\" y=\"-215.8\" font-family=\"Helvetica,sans-Serif\" font-size=\"14.00\" fill=\"#000000\">samples = 8068</text>\n<text text-anchor=\"middle\" x=\"342.5\" y=\"-200.8\" font-family=\"Helvetica,sans-Serif\" font-size=\"14.00\" fill=\"#000000\">value = [1972, 1858, 1970, 2268]</text>\n</g>\n<!-- 1 -->\n<g id=\"node2\" class=\"node\">\n<title>1</title>\n<polygon fill=\"#fdf8f4\" stroke=\"#000000\" points=\"333.5,-157 153.5,-157 153.5,-89 333.5,-89 333.5,-157\"/>\n<text text-anchor=\"middle\" x=\"243.5\" y=\"-141.8\" font-family=\"Helvetica,sans-Serif\" font-size=\"14.00\" fill=\"#000000\">Segmentation &lt;= 0.5</text>\n<text text-anchor=\"middle\" x=\"243.5\" y=\"-126.8\" font-family=\"Helvetica,sans-Serif\" font-size=\"14.00\" fill=\"#000000\">entropy = 0.999</text>\n<text text-anchor=\"middle\" x=\"243.5\" y=\"-111.8\" font-family=\"Helvetica,sans-Serif\" font-size=\"14.00\" fill=\"#000000\">samples = 3830</text>\n<text text-anchor=\"middle\" x=\"243.5\" y=\"-96.8\" font-family=\"Helvetica,sans-Serif\" font-size=\"14.00\" fill=\"#000000\">value = [1972, 1858, 0, 0]</text>\n</g>\n<!-- 0&#45;&gt;1 -->\n<g id=\"edge1\" class=\"edge\">\n<title>0&#45;&gt;1</title>\n<path fill=\"none\" stroke=\"#000000\" d=\"M310.0837,-192.9465C301.4514,-183.8782 292.0289,-173.9799 283.0605,-164.5585\"/>\n<polygon fill=\"#000000\" stroke=\"#000000\" points=\"285.419,-161.9599 275.9891,-157.13 280.3489,-166.7863 285.419,-161.9599\"/>\n<text text-anchor=\"middle\" x=\"275.3736\" y=\"-178.4224\" font-family=\"Helvetica,sans-Serif\" font-size=\"14.00\" fill=\"#000000\">True</text>\n</g>\n<!-- 4 -->\n<g id=\"node5\" class=\"node\">\n<title>4</title>\n<polygon fill=\"#fae5fc\" stroke=\"#000000\" points=\"531.5,-157 351.5,-157 351.5,-89 531.5,-89 531.5,-157\"/>\n<text text-anchor=\"middle\" x=\"441.5\" y=\"-141.8\" font-family=\"Helvetica,sans-Serif\" font-size=\"14.00\" fill=\"#000000\">Segmentation &lt;= 2.5</text>\n<text text-anchor=\"middle\" x=\"441.5\" y=\"-126.8\" font-family=\"Helvetica,sans-Serif\" font-size=\"14.00\" fill=\"#000000\">entropy = 0.996</text>\n<text text-anchor=\"middle\" x=\"441.5\" y=\"-111.8\" font-family=\"Helvetica,sans-Serif\" font-size=\"14.00\" fill=\"#000000\">samples = 4238</text>\n<text text-anchor=\"middle\" x=\"441.5\" y=\"-96.8\" font-family=\"Helvetica,sans-Serif\" font-size=\"14.00\" fill=\"#000000\">value = [0, 0, 1970, 2268]</text>\n</g>\n<!-- 0&#45;&gt;4 -->\n<g id=\"edge4\" class=\"edge\">\n<title>0&#45;&gt;4</title>\n<path fill=\"none\" stroke=\"#000000\" d=\"M374.9163,-192.9465C383.5486,-183.8782 392.9711,-173.9799 401.9395,-164.5585\"/>\n<polygon fill=\"#000000\" stroke=\"#000000\" points=\"404.6511,-166.7863 409.0109,-157.13 399.581,-161.9599 404.6511,-166.7863\"/>\n<text text-anchor=\"middle\" x=\"409.6264\" y=\"-178.4224\" font-family=\"Helvetica,sans-Serif\" font-size=\"14.00\" fill=\"#000000\">False</text>\n</g>\n<!-- 2 -->\n<g id=\"node3\" class=\"node\">\n<title>2</title>\n<polygon fill=\"#e58139\" stroke=\"#000000\" points=\"155,-53 0,-53 0,0 155,0 155,-53\"/>\n<text text-anchor=\"middle\" x=\"77.5\" y=\"-37.8\" font-family=\"Helvetica,sans-Serif\" font-size=\"14.00\" fill=\"#000000\">entropy = 0.0</text>\n<text text-anchor=\"middle\" x=\"77.5\" y=\"-22.8\" font-family=\"Helvetica,sans-Serif\" font-size=\"14.00\" fill=\"#000000\">samples = 1972</text>\n<text text-anchor=\"middle\" x=\"77.5\" y=\"-7.8\" font-family=\"Helvetica,sans-Serif\" font-size=\"14.00\" fill=\"#000000\">value = [1972, 0, 0, 0]</text>\n</g>\n<!-- 1&#45;&gt;2 -->\n<g id=\"edge2\" class=\"edge\">\n<title>1&#45;&gt;2</title>\n<path fill=\"none\" stroke=\"#000000\" d=\"M184.9746,-88.9777C167.7256,-78.9504 148.9277,-68.0228 131.946,-58.1508\"/>\n<polygon fill=\"#000000\" stroke=\"#000000\" points=\"133.6533,-55.095 123.249,-53.095 130.1353,-61.1467 133.6533,-55.095\"/>\n</g>\n<!-- 3 -->\n<g id=\"node4\" class=\"node\">\n<title>3</title>\n<polygon fill=\"#47e539\" stroke=\"#000000\" points=\"328,-53 173,-53 173,0 328,0 328,-53\"/>\n<text text-anchor=\"middle\" x=\"250.5\" y=\"-37.8\" font-family=\"Helvetica,sans-Serif\" font-size=\"14.00\" fill=\"#000000\">entropy = 0.0</text>\n<text text-anchor=\"middle\" x=\"250.5\" y=\"-22.8\" font-family=\"Helvetica,sans-Serif\" font-size=\"14.00\" fill=\"#000000\">samples = 1858</text>\n<text text-anchor=\"middle\" x=\"250.5\" y=\"-7.8\" font-family=\"Helvetica,sans-Serif\" font-size=\"14.00\" fill=\"#000000\">value = [0, 1858, 0, 0]</text>\n</g>\n<!-- 1&#45;&gt;3 -->\n<g id=\"edge3\" class=\"edge\">\n<title>1&#45;&gt;3</title>\n<path fill=\"none\" stroke=\"#000000\" d=\"M245.9679,-88.9777C246.5724,-80.6449 247.222,-71.6903 247.8352,-63.2364\"/>\n<polygon fill=\"#000000\" stroke=\"#000000\" points=\"251.3269,-63.4755 248.5597,-53.2485 244.3453,-62.969 251.3269,-63.4755\"/>\n</g>\n<!-- 5 -->\n<g id=\"node6\" class=\"node\">\n<title>5</title>\n<polygon fill=\"#399de5\" stroke=\"#000000\" points=\"513,-53 358,-53 358,0 513,0 513,-53\"/>\n<text text-anchor=\"middle\" x=\"435.5\" y=\"-37.8\" font-family=\"Helvetica,sans-Serif\" font-size=\"14.00\" fill=\"#000000\">entropy = 0.0</text>\n<text text-anchor=\"middle\" x=\"435.5\" y=\"-22.8\" font-family=\"Helvetica,sans-Serif\" font-size=\"14.00\" fill=\"#000000\">samples = 1970</text>\n<text text-anchor=\"middle\" x=\"435.5\" y=\"-7.8\" font-family=\"Helvetica,sans-Serif\" font-size=\"14.00\" fill=\"#000000\">value = [0, 0, 1970, 0]</text>\n</g>\n<!-- 4&#45;&gt;5 -->\n<g id=\"edge5\" class=\"edge\">\n<title>4&#45;&gt;5</title>\n<path fill=\"none\" stroke=\"#000000\" d=\"M439.3846,-88.9777C438.8665,-80.6449 438.3098,-71.6903 437.7841,-63.2364\"/>\n<polygon fill=\"#000000\" stroke=\"#000000\" points=\"441.277,-63.012 437.1631,-53.2485 434.2905,-63.4464 441.277,-63.012\"/>\n</g>\n<!-- 6 -->\n<g id=\"node7\" class=\"node\">\n<title>6</title>\n<polygon fill=\"#d739e5\" stroke=\"#000000\" points=\"686,-53 531,-53 531,0 686,0 686,-53\"/>\n<text text-anchor=\"middle\" x=\"608.5\" y=\"-37.8\" font-family=\"Helvetica,sans-Serif\" font-size=\"14.00\" fill=\"#000000\">entropy = 0.0</text>\n<text text-anchor=\"middle\" x=\"608.5\" y=\"-22.8\" font-family=\"Helvetica,sans-Serif\" font-size=\"14.00\" fill=\"#000000\">samples = 2268</text>\n<text text-anchor=\"middle\" x=\"608.5\" y=\"-7.8\" font-family=\"Helvetica,sans-Serif\" font-size=\"14.00\" fill=\"#000000\">value = [0, 0, 0, 2268]</text>\n</g>\n<!-- 4&#45;&gt;6 -->\n<g id=\"edge6\" class=\"edge\">\n<title>4&#45;&gt;6</title>\n<path fill=\"none\" stroke=\"#000000\" d=\"M500.378,-88.9777C517.7309,-78.9504 536.642,-68.0228 553.726,-58.1508\"/>\n<polygon fill=\"#000000\" stroke=\"#000000\" points=\"555.5682,-61.1287 562.4754,-53.095 552.0659,-55.0678 555.5682,-61.1287\"/>\n</g>\n</g>\n</svg>\n"
          },
          "metadata": {},
          "execution_count": 18
        }
      ]
    },
    {
      "cell_type": "markdown",
      "source": [
        "## Hyperparameter Optimization"
      ],
      "metadata": {
        "id": "Dknqcsv4jYq7"
      }
    },
    {
      "cell_type": "code",
      "source": [
        "# Use GridSearchCV to find optimum hyperparameter values for the DT model\n",
        "\n",
        "\n",
        "# create a dictionary of all values we want to test\n",
        "param_grid1 = { 'criterion':['gini','entropy'],    # impurity criterion\n",
        "              'max_depth': np.arange(3, 15)}      # tree depth \n",
        "   \n",
        "    \n",
        "# use gridsearch to test all values\n",
        "grid_search1 = GridSearchCV(entropy_dt_clf['Segmentation'], \n",
        "                           param_grid1, \n",
        "                           cv=3)\n",
        "    \n",
        "# fit the model \n",
        "grid_search1.fit(preprocessor.fit_transform(X_train), y_train)\n",
        "\n",
        "   \n",
        "print(\"The best achieved accuracy after hyperparameter optimization: %.2f \\n\" % (grid_search1.best_score_))\n",
        "\n",
        "print(\"The best DT model hyperparameters:\", grid_search1.best_params_)"
      ],
      "metadata": {
        "id": "s6i7xhLPtcgY"
      },
      "execution_count": null,
      "outputs": []
    },
    {
      "cell_type": "code",
      "source": [
        "# Use GridSearchCV to find optimum hyperparameter values for the SVC poly model\n",
        "\n",
        "\n",
        "# create a dictionary of all values we want to test\n",
        "param_grid2 = {'kernel':['Age'], \n",
        "              'gamma':['scale','auto'],      # Kernel coefficient for ‘rbf’, ‘poly’ and ‘sigmoid’.\n",
        "              'degree': np.arange(4,8),      # polynomial degree\n",
        "              'C': np.arange(1,10)}          # Regularization parameter\n",
        "   \n",
        "    \n",
        "# use gridsearch to test all values\n",
        "grid_search2 = GridSearchCV(poly_svc_clf['classifier'], \n",
        "                           param_grid2, \n",
        "                           cv=3)\n",
        "    \n",
        "# fit the model \n",
        "grid_search2.fit(preprocessor.fit_transform(X_train), y_train)\n",
        "\n",
        "   \n",
        "print(\"The best achieved accuracy after hyperparameter optimization: %.2f\\n\" % grid_search2.best_score_)\n",
        "\n",
        "print(\"The best SVC poly model hyperparameters:\", grid_search2.best_params_)"
      ],
      "metadata": {
        "id": "TZxAwxCOjdAE"
      },
      "execution_count": null,
      "outputs": []
    },
    {
      "cell_type": "code",
      "source": [
        "# graph results of grid search for the two models\n",
        "\n",
        "labels = ['DT (Entropy)', 'SVC (Poly)']\n",
        "before_optimization_scores = [entropy_dt_score, poly_svc_clf_score]\n",
        "after_optimization_scores = [grid_search1.best_score_, grid_search2.best_score_]\n",
        "\n",
        "x = np.arange(len(labels))  # the label locations\n",
        "width = 0.25                # the width of the bars\n",
        "\n",
        "fig, ax = plt.subplots()\n",
        "rects1 = ax.bar(x - width/2, before_optimization_scores, width, label='Before Optimization', color='gray')\n",
        "rects2 = ax.bar(x + width/2, after_optimization_scores, width, label='After Optimization', color='maroon')\n",
        "\n",
        "# Add some text for labels, title and custom x-axis tick labels, etc.\n",
        "ax.set_ylabel('Accuracy')\n",
        "ax.set_xticks(x)\n",
        "ax.set_ylim(0,1.0)\n",
        "ax.set_xticklabels(labels)\n",
        "ax.legend(bbox_to_anchor = (1.45, 1.0), loc='upper right')\n",
        "\n",
        "plt.title('Hyperparamater Optimization Results')\n",
        "plt.show()"
      ],
      "metadata": {
        "id": "pHPMsA9YtX2a"
      },
      "execution_count": null,
      "outputs": []
    }
  ]
}